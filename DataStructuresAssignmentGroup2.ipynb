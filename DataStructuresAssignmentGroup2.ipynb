{
  "nbformat": 4,
  "nbformat_minor": 0,
  "metadata": {
    "colab": {
      "provenance": [],
      "include_colab_link": true
    },
    "kernelspec": {
      "name": "python3",
      "display_name": "Python 3"
    },
    "language_info": {
      "name": "python"
    }
  },
  "cells": [
    {
      "cell_type": "markdown",
      "metadata": {
        "id": "view-in-github",
        "colab_type": "text"
      },
      "source": [
        "<a href=\"https://colab.research.google.com/github/Omdena-Bhutan/02-data-structures-group-2/blob/main/DataStructuresAssignmentGroup2.ipynb\" target=\"_parent\"><img src=\"https://colab.research.google.com/assets/colab-badge.svg\" alt=\"Open In Colab\"/></a>"
      ]
    },
    {
      "cell_type": "code",
      "execution_count": null,
      "metadata": {
        "colab": {
          "base_uri": "https://localhost:8080/"
        },
        "id": "nQQXeamYvufK",
        "outputId": "cc902ca2-ba08-474b-d093-f61540288e18"
      },
      "outputs": [
        {
          "output_type": "stream",
          "name": "stdout",
          "text": [
            "Character Name: Alistar the Brave \n",
            "Character Level: 1\n",
            "{'name': 'Alistar the Brave', 'level': 1, 'health': 85, 'mana': 50, 'gold': 50.75, 'is_alive': True, 'experience': 0}\n"
          ]
        }
      ],
      "source": [
        "#Part 1: Character Profile (Using Dictionaries and Basic Types)\n",
        "character_info = {\n",
        "    \"name\":\"Alistar the Brave\",\n",
        "    \"level\": 1,\n",
        "    \"health\":100,\n",
        "    \"mana\":50,\n",
        "    \"gold\":float(50.75),\n",
        "    \"is_alive\":True\n",
        "}\n",
        "\n",
        "print(f\"Character Name: {character_info['name']} \\nCharacter Level: {character_info['level']}\")\n",
        "character_info[\"health\"] = 85\n",
        "character_info[\"experience\"] = 0\n",
        "print(character_info)\n"
      ]
    },
    {
      "cell_type": "code",
      "source": [
        "#Part 2: Inventory System (Using Lists)\n",
        "inventory = ['sword', 'shield', 'health potion']\n",
        "inventory.append('mana potion')\n",
        "inventory.remove(\"shield\")\n",
        "for items in inventory:\n",
        "  print(items)\n"
      ],
      "metadata": {
        "colab": {
          "base_uri": "https://localhost:8080/"
        },
        "id": "lnLcl-F3wqkF",
        "outputId": "abcbd908-80c1-4772-9108-f2754858bb5f"
      },
      "execution_count": null,
      "outputs": [
        {
          "output_type": "stream",
          "name": "stdout",
          "text": [
            "sword\n",
            "health potion\n",
            "mana potion\n"
          ]
        }
      ]
    },
    {
      "cell_type": "code",
      "source": [
        "#Part 3: Character Stats (Using Tuples)\n",
        "base_stats = (10,8,12) #strength, dexterity, intelligence\n",
        "print(\"Tuple is a great choice for base stats because it is immutable in nature. The base stats needs to remain constance hence a tuple ensure it is unchanged.\")\n",
        "print(f\"Intelligence: {base_stats[2]}\")"
      ],
      "metadata": {
        "colab": {
          "base_uri": "https://localhost:8080/"
        },
        "id": "HWjyQyGJyB08",
        "outputId": "ccd018e1-cd99-403a-a9c5-887b09a89abc"
      },
      "execution_count": null,
      "outputs": [
        {
          "output_type": "stream",
          "name": "stdout",
          "text": [
            "Tuple is a great choice for base stats because it is immutable in nature. The base stats needs to remain constance hence a tuple ensure it is unchanged.\n",
            "Intelligence: 12\n"
          ]
        }
      ]
    },
    {
      "cell_type": "code",
      "source": [
        "#Part 4: Quest Log (Using Sets)\n",
        "quests = {\"Find the base\", 'Defeat the Goblin King', 'Find the Lost Amulet'}\n",
        "quests.add(\"Deliver the old scroll\")\n",
        "quests.add(\"Find the base\")\n",
        "quests.remove(\"Find the Lost Amulet\")\n",
        "print(quests)"
      ],
      "metadata": {
        "colab": {
          "base_uri": "https://localhost:8080/"
        },
        "id": "pzBIRlUWyyCE",
        "outputId": "2b2dc58c-682a-4c74-8e35-f769abe05397"
      },
      "execution_count": null,
      "outputs": [
        {
          "output_type": "stream",
          "name": "stdout",
          "text": [
            "{'Defeat the Goblin King', 'Find the base', 'Deliver the old scroll'}\n"
          ]
        }
      ]
    },
    {
      "cell_type": "code",
      "source": [
        "#Part 5: Putting it all together\n",
        "character_sheet = {\n",
        "    \"profile\":character_info,\n",
        "    \"inventory\":inventory,\n",
        "    \"stats\":base_stats,\n",
        "    \"quests\":quests\n",
        "}"
      ],
      "metadata": {
        "id": "_A4xTX6uzrIN"
      },
      "execution_count": null,
      "outputs": []
    },
    {
      "cell_type": "code",
      "source": [
        "kids=300\n",
        "teenage=500\n",
        "adults=800\n",
        "old=400\n",
        "age=int(\"Enter your age\")\n",
        "if age==12 or age<12:\n",
        "  print(f\"your amount is (kids)\")\n",
        "elif age<=0:\n",
        "  print(\"age cant be this\")\n",
        "elif age>12 and age<18:\n",
        "  print(f\"ur amount is (teenage)\")"
      ],
      "metadata": {
        "colab": {
          "base_uri": "https://localhost:8080/",
          "height": 211
        },
        "id": "Fna8JQG4lodU",
        "outputId": "d61b0275-4d6c-473c-edd2-bf7ed0d5cb44"
      },
      "execution_count": 1,
      "outputs": [
        {
          "output_type": "error",
          "ename": "ValueError",
          "evalue": "invalid literal for int() with base 10: 'Enter your age'",
          "traceback": [
            "\u001b[0;31m---------------------------------------------------------------------------\u001b[0m",
            "\u001b[0;31mValueError\u001b[0m                                Traceback (most recent call last)",
            "\u001b[0;32m/tmp/ipython-input-3505159798.py\u001b[0m in \u001b[0;36m<cell line: 0>\u001b[0;34m()\u001b[0m\n\u001b[1;32m      3\u001b[0m \u001b[0madults\u001b[0m\u001b[0;34m=\u001b[0m\u001b[0;36m800\u001b[0m\u001b[0;34m\u001b[0m\u001b[0;34m\u001b[0m\u001b[0m\n\u001b[1;32m      4\u001b[0m \u001b[0mold\u001b[0m\u001b[0;34m=\u001b[0m\u001b[0;36m400\u001b[0m\u001b[0;34m\u001b[0m\u001b[0;34m\u001b[0m\u001b[0m\n\u001b[0;32m----> 5\u001b[0;31m \u001b[0mage\u001b[0m\u001b[0;34m=\u001b[0m\u001b[0mint\u001b[0m\u001b[0;34m(\u001b[0m\u001b[0;34m\"Enter your age\"\u001b[0m\u001b[0;34m)\u001b[0m\u001b[0;34m\u001b[0m\u001b[0;34m\u001b[0m\u001b[0m\n\u001b[0m\u001b[1;32m      6\u001b[0m \u001b[0;32mif\u001b[0m \u001b[0mage\u001b[0m\u001b[0;34m==\u001b[0m\u001b[0;36m12\u001b[0m \u001b[0;32mor\u001b[0m \u001b[0mage\u001b[0m\u001b[0;34m<\u001b[0m\u001b[0;36m12\u001b[0m\u001b[0;34m:\u001b[0m\u001b[0;34m\u001b[0m\u001b[0;34m\u001b[0m\u001b[0m\n\u001b[1;32m      7\u001b[0m   \u001b[0mprint\u001b[0m\u001b[0;34m(\u001b[0m\u001b[0;34mf\"your amount is (kids)\"\u001b[0m\u001b[0;34m)\u001b[0m\u001b[0;34m\u001b[0m\u001b[0;34m\u001b[0m\u001b[0m\n",
            "\u001b[0;31mValueError\u001b[0m: invalid literal for int() with base 10: 'Enter your age'"
          ]
        }
      ]
    },
    {
      "cell_type": "code",
      "source": [
        "kids=300\n",
        "teenage=500\n",
        "adults=800\n",
        "old=400\n",
        "age=int(print(\"Enter your age\"))\n",
        "if age==12 or age<12:\n",
        "  print(f\"your amount is (kids)\")\n",
        "elif age<=0:\n",
        "  print(\"age cant be this\")\n",
        "elif age>12 and age<18:\n",
        "  print(f\"ur amount is (teenage)\")"
      ],
      "metadata": {
        "colab": {
          "base_uri": "https://localhost:8080/",
          "height": 228
        },
        "id": "WrFV-5Bbm271",
        "outputId": "4c32b24f-dc07-43c1-cc2b-c0b9ac1c1f9f"
      },
      "execution_count": 2,
      "outputs": [
        {
          "output_type": "stream",
          "name": "stdout",
          "text": [
            "Enter your age\n"
          ]
        },
        {
          "output_type": "error",
          "ename": "TypeError",
          "evalue": "int() argument must be a string, a bytes-like object or a real number, not 'NoneType'",
          "traceback": [
            "\u001b[0;31m---------------------------------------------------------------------------\u001b[0m",
            "\u001b[0;31mTypeError\u001b[0m                                 Traceback (most recent call last)",
            "\u001b[0;32m/tmp/ipython-input-4108686345.py\u001b[0m in \u001b[0;36m<cell line: 0>\u001b[0;34m()\u001b[0m\n\u001b[1;32m      3\u001b[0m \u001b[0madults\u001b[0m\u001b[0;34m=\u001b[0m\u001b[0;36m800\u001b[0m\u001b[0;34m\u001b[0m\u001b[0;34m\u001b[0m\u001b[0m\n\u001b[1;32m      4\u001b[0m \u001b[0mold\u001b[0m\u001b[0;34m=\u001b[0m\u001b[0;36m400\u001b[0m\u001b[0;34m\u001b[0m\u001b[0;34m\u001b[0m\u001b[0m\n\u001b[0;32m----> 5\u001b[0;31m \u001b[0mage\u001b[0m\u001b[0;34m=\u001b[0m\u001b[0mint\u001b[0m\u001b[0;34m(\u001b[0m\u001b[0mprint\u001b[0m\u001b[0;34m(\u001b[0m\u001b[0;34m\"Enter your age\"\u001b[0m\u001b[0;34m)\u001b[0m\u001b[0;34m)\u001b[0m\u001b[0;34m\u001b[0m\u001b[0;34m\u001b[0m\u001b[0m\n\u001b[0m\u001b[1;32m      6\u001b[0m \u001b[0;32mif\u001b[0m \u001b[0mage\u001b[0m\u001b[0;34m==\u001b[0m\u001b[0;36m12\u001b[0m \u001b[0;32mor\u001b[0m \u001b[0mage\u001b[0m\u001b[0;34m<\u001b[0m\u001b[0;36m12\u001b[0m\u001b[0;34m:\u001b[0m\u001b[0;34m\u001b[0m\u001b[0;34m\u001b[0m\u001b[0m\n\u001b[1;32m      7\u001b[0m   \u001b[0mprint\u001b[0m\u001b[0;34m(\u001b[0m\u001b[0;34mf\"your amount is (kids)\"\u001b[0m\u001b[0;34m)\u001b[0m\u001b[0;34m\u001b[0m\u001b[0;34m\u001b[0m\u001b[0m\n",
            "\u001b[0;31mTypeError\u001b[0m: int() argument must be a string, a bytes-like object or a real number, not 'NoneType'"
          ]
        }
      ]
    },
    {
      "cell_type": "code",
      "source": [
        "kids=300\n",
        "teenage=500\n",
        "adults=800\n",
        "old=400\n",
        "age=str(print(\"Enter your age\"))\n",
        "if age==12 or age<12:\n",
        "  print(f\"your amount is (kids)\")\n",
        "elif age<=0:\n",
        "  print(\"age cant be this\")\n",
        "elif age>12 and age<18:\n",
        "  print(f\"ur amount is (teenage)\")"
      ],
      "metadata": {
        "colab": {
          "base_uri": "https://localhost:8080/",
          "height": 228
        },
        "id": "sz7WJqh7nFpE",
        "outputId": "02f08779-a2e3-4a31-bca1-b1a7da1732d2"
      },
      "execution_count": 3,
      "outputs": [
        {
          "output_type": "stream",
          "name": "stdout",
          "text": [
            "Enter your age\n"
          ]
        },
        {
          "output_type": "error",
          "ename": "TypeError",
          "evalue": "'<' not supported between instances of 'str' and 'int'",
          "traceback": [
            "\u001b[0;31m---------------------------------------------------------------------------\u001b[0m",
            "\u001b[0;31mTypeError\u001b[0m                                 Traceback (most recent call last)",
            "\u001b[0;32m/tmp/ipython-input-288865884.py\u001b[0m in \u001b[0;36m<cell line: 0>\u001b[0;34m()\u001b[0m\n\u001b[1;32m      4\u001b[0m \u001b[0mold\u001b[0m\u001b[0;34m=\u001b[0m\u001b[0;36m400\u001b[0m\u001b[0;34m\u001b[0m\u001b[0;34m\u001b[0m\u001b[0m\n\u001b[1;32m      5\u001b[0m \u001b[0mage\u001b[0m\u001b[0;34m=\u001b[0m\u001b[0mstr\u001b[0m\u001b[0;34m(\u001b[0m\u001b[0mprint\u001b[0m\u001b[0;34m(\u001b[0m\u001b[0;34m\"Enter your age\"\u001b[0m\u001b[0;34m)\u001b[0m\u001b[0;34m)\u001b[0m\u001b[0;34m\u001b[0m\u001b[0;34m\u001b[0m\u001b[0m\n\u001b[0;32m----> 6\u001b[0;31m \u001b[0;32mif\u001b[0m \u001b[0mage\u001b[0m\u001b[0;34m==\u001b[0m\u001b[0;36m12\u001b[0m \u001b[0;32mor\u001b[0m \u001b[0mage\u001b[0m\u001b[0;34m<\u001b[0m\u001b[0;36m12\u001b[0m\u001b[0;34m:\u001b[0m\u001b[0;34m\u001b[0m\u001b[0;34m\u001b[0m\u001b[0m\n\u001b[0m\u001b[1;32m      7\u001b[0m   \u001b[0mprint\u001b[0m\u001b[0;34m(\u001b[0m\u001b[0;34mf\"your amount is (kids)\"\u001b[0m\u001b[0;34m)\u001b[0m\u001b[0;34m\u001b[0m\u001b[0;34m\u001b[0m\u001b[0m\n\u001b[1;32m      8\u001b[0m \u001b[0;32melif\u001b[0m \u001b[0mage\u001b[0m\u001b[0;34m<=\u001b[0m\u001b[0;36m0\u001b[0m\u001b[0;34m:\u001b[0m\u001b[0;34m\u001b[0m\u001b[0;34m\u001b[0m\u001b[0m\n",
            "\u001b[0;31mTypeError\u001b[0m: '<' not supported between instances of 'str' and 'int'"
          ]
        }
      ]
    },
    {
      "cell_type": "code",
      "source": [],
      "metadata": {
        "id": "FzVSL_HxnRb0"
      },
      "execution_count": null,
      "outputs": []
    },
    {
      "cell_type": "code",
      "source": [
        "kids_price = 300\n",
        "teenage_price = 500\n",
        "adult_price = 800\n",
        "old_price = 400\n",
        "\n",
        "age=int(print(\"enetr ur age:\"))\n",
        "if age<=0:\n",
        "  print(\"age cant be zero\")\n",
        "else:\n",
        "  if age<13:\n",
        "    print(f\"ur amount is{kids_price}\")\n",
        "  elif age<18:\n",
        "    print(f\"ur amount is {teenage_price}\")\n",
        "  elif age<60:\n",
        "    print(f\"ur amount is {adult_price}\")\n",
        "  else:\n",
        "    print(f\"ur amount is {old_price}\")"
      ],
      "metadata": {
        "colab": {
          "base_uri": "https://localhost:8080/",
          "height": 228
        },
        "id": "l8Vc0ApwoG0k",
        "outputId": "13e8fbb5-3a8d-402f-ff68-ab965a8a50f6"
      },
      "execution_count": 4,
      "outputs": [
        {
          "output_type": "stream",
          "name": "stdout",
          "text": [
            "enetr ur age:\n"
          ]
        },
        {
          "output_type": "error",
          "ename": "TypeError",
          "evalue": "int() argument must be a string, a bytes-like object or a real number, not 'NoneType'",
          "traceback": [
            "\u001b[0;31m---------------------------------------------------------------------------\u001b[0m",
            "\u001b[0;31mTypeError\u001b[0m                                 Traceback (most recent call last)",
            "\u001b[0;32m/tmp/ipython-input-3145323832.py\u001b[0m in \u001b[0;36m<cell line: 0>\u001b[0;34m()\u001b[0m\n\u001b[1;32m      4\u001b[0m \u001b[0mold_price\u001b[0m \u001b[0;34m=\u001b[0m \u001b[0;36m400\u001b[0m\u001b[0;34m\u001b[0m\u001b[0;34m\u001b[0m\u001b[0m\n\u001b[1;32m      5\u001b[0m \u001b[0;34m\u001b[0m\u001b[0m\n\u001b[0;32m----> 6\u001b[0;31m \u001b[0mage\u001b[0m\u001b[0;34m=\u001b[0m\u001b[0mint\u001b[0m\u001b[0;34m(\u001b[0m\u001b[0mprint\u001b[0m\u001b[0;34m(\u001b[0m\u001b[0;34m\"enetr ur age:\"\u001b[0m\u001b[0;34m)\u001b[0m\u001b[0;34m)\u001b[0m\u001b[0;34m\u001b[0m\u001b[0;34m\u001b[0m\u001b[0m\n\u001b[0m\u001b[1;32m      7\u001b[0m \u001b[0;32mif\u001b[0m \u001b[0mage\u001b[0m\u001b[0;34m<=\u001b[0m\u001b[0;36m0\u001b[0m\u001b[0;34m:\u001b[0m\u001b[0;34m\u001b[0m\u001b[0;34m\u001b[0m\u001b[0m\n\u001b[1;32m      8\u001b[0m   \u001b[0mprint\u001b[0m\u001b[0;34m(\u001b[0m\u001b[0;34m\"age cant be zero\"\u001b[0m\u001b[0;34m)\u001b[0m\u001b[0;34m\u001b[0m\u001b[0;34m\u001b[0m\u001b[0m\n",
            "\u001b[0;31mTypeError\u001b[0m: int() argument must be a string, a bytes-like object or a real number, not 'NoneType'"
          ]
        }
      ]
    },
    {
      "cell_type": "code",
      "source": [
        "kids_price = 300\n",
        "teenage_price = 500\n",
        "adult_price = 800\n",
        "old_price = 400\n",
        "\n",
        "age=int(input(\"enetr ur age:\"))\n",
        "if age<=0:\n",
        "  print(\"age cant be zero\")\n",
        "else:\n",
        "  if age<13:\n",
        "    print(f\"ur amount is {kids_price}\")\n",
        "  elif age<18:\n",
        "    print(f\"ur amount is {teenage_price}\")\n",
        "  elif age<60:\n",
        "    print(f\"ur amount is {adult_price}\")\n",
        "  else:\n",
        "    print(f\"ur amount is {old_price}\")"
      ],
      "metadata": {
        "colab": {
          "base_uri": "https://localhost:8080/"
        },
        "id": "1xUqmloMpMnk",
        "outputId": "20568464-ad0d-4c9a-e9f9-43bd2a43f75c"
      },
      "execution_count": 11,
      "outputs": [
        {
          "output_type": "stream",
          "name": "stdout",
          "text": [
            "enetr ur age:1200\n",
            "ur amount is 400\n"
          ]
        }
      ]
    },
    {
      "cell_type": "code",
      "source": [],
      "metadata": {
        "id": "x5CDHicspSL7"
      },
      "execution_count": null,
      "outputs": []
    },
    {
      "cell_type": "code",
      "source": [],
      "metadata": {
        "id": "xxQ8MdVnqNYT"
      },
      "execution_count": null,
      "outputs": []
    },
    {
      "cell_type": "code",
      "source": [
        "import random\n",
        "\n",
        "# Generate a random number between 1 and 100\n",
        "secret_number = random.ran(1, 100)\n",
        "guesses=0\n",
        "guess=0\n",
        "while True:\n",
        "  guess=int(input(\"guess a number\"))\n",
        "  guess+=1\n",
        "  if guess==secret_number:\n",
        "    print(\"won\")\n",
        "  elif guess>secret_number:\n",
        "    print(\"too high\")\n",
        "  else:\n",
        "    print(\"too lowg\")\n",
        "print(f\"guesses: {guess}\")\n"
      ],
      "metadata": {
        "colab": {
          "base_uri": "https://localhost:8080/",
          "height": 211
        },
        "id": "wUsaPomEqPMD",
        "outputId": "238f5e45-37f3-48d8-cc6f-b912dc484f5a"
      },
      "execution_count": 12,
      "outputs": [
        {
          "output_type": "error",
          "ename": "AttributeError",
          "evalue": "module 'random' has no attribute 'ran'",
          "traceback": [
            "\u001b[0;31m---------------------------------------------------------------------------\u001b[0m",
            "\u001b[0;31mAttributeError\u001b[0m                            Traceback (most recent call last)",
            "\u001b[0;32m/tmp/ipython-input-3777683158.py\u001b[0m in \u001b[0;36m<cell line: 0>\u001b[0;34m()\u001b[0m\n\u001b[1;32m      2\u001b[0m \u001b[0;34m\u001b[0m\u001b[0m\n\u001b[1;32m      3\u001b[0m \u001b[0;31m# Generate a random number between 1 and 100\u001b[0m\u001b[0;34m\u001b[0m\u001b[0;34m\u001b[0m\u001b[0m\n\u001b[0;32m----> 4\u001b[0;31m \u001b[0msecret_number\u001b[0m \u001b[0;34m=\u001b[0m \u001b[0mrandom\u001b[0m\u001b[0;34m.\u001b[0m\u001b[0mran\u001b[0m\u001b[0;34m(\u001b[0m\u001b[0;36m1\u001b[0m\u001b[0;34m,\u001b[0m \u001b[0;36m100\u001b[0m\u001b[0;34m)\u001b[0m\u001b[0;34m\u001b[0m\u001b[0;34m\u001b[0m\u001b[0m\n\u001b[0m\u001b[1;32m      5\u001b[0m \u001b[0mguesses\u001b[0m\u001b[0;34m=\u001b[0m\u001b[0;36m0\u001b[0m\u001b[0;34m\u001b[0m\u001b[0;34m\u001b[0m\u001b[0m\n\u001b[1;32m      6\u001b[0m \u001b[0mguess\u001b[0m\u001b[0;34m=\u001b[0m\u001b[0;36m0\u001b[0m\u001b[0;34m\u001b[0m\u001b[0;34m\u001b[0m\u001b[0m\n",
            "\u001b[0;31mAttributeError\u001b[0m: module 'random' has no attribute 'ran'"
          ]
        }
      ]
    },
    {
      "cell_type": "code",
      "source": [
        "import random\n",
        "\n",
        "# Generate a random number between 1 and 100\n",
        "secret_number = random.randint(1, 100)\n",
        "guesses = 0 # Initialize guesses count\n",
        "\n",
        "while True:\n",
        "    guesses += 1 # Increment guesses count with each attempt\n",
        "    try:\n",
        "        # Get the user's guess\n",
        "        guess = int(input(\"Guess a number between 1 and 100: \"))\n",
        "\n",
        "        # Check if the guess is within the valid range (optional but good practice)\n",
        "        if not (1 <= guess <= 100):\n",
        "            print(\"Please guess a number within the range of 1 to 100.\")\n",
        "            continue # Skip the rest of the loop and ask for input again\n",
        "\n",
        "        # Check if the guess is correct\n",
        "        if guess == secret_number:\n",
        "            print(f\"Congratulations! You won in {guesses} guesses.\")\n",
        "            break  # Exit the loop if the guess is correct\n",
        "        elif guess > secret_number:\n",
        "            print(\"Too high! Try again.\")\n",
        "        else:\n",
        "            print(\"Too low! Try again.\") # Corrected typo\n",
        "\n",
        "    except ValueError:\n",
        "        print(\"Invalid input. Please enter a whole number.\")\n",
        "\n",
        "# The loop breaks when the user wins, so the following line is outside the loop\n",
        "# print(f\"Total guesses: {guesses}\") # This line is not needed as the win message includes guesses"
      ],
      "metadata": {
        "colab": {
          "base_uri": "https://localhost:8080/",
          "height": 540
        },
        "id": "AHW1Xh13ry78",
        "outputId": "fb754fae-3f3c-4493-84e1-a231e0029e8e"
      },
      "execution_count": 13,
      "outputs": [
        {
          "name": "stdout",
          "output_type": "stream",
          "text": [
            "guess a number29\n",
            "too lowg\n",
            "guess a number45\n",
            "too lowg\n",
            "guess a number67\n",
            "too lowg\n",
            "guess a number89\n",
            "too high\n",
            "guess a number75\n",
            "too lowg\n",
            "guess a number79\n",
            "too lowg\n",
            "guess a number80\n",
            "too lowg\n",
            "guess a number82\n",
            "too lowg\n",
            "guess a number84\n",
            "too lowg\n",
            "guess a number85]\n"
          ]
        },
        {
          "output_type": "error",
          "ename": "ValueError",
          "evalue": "invalid literal for int() with base 10: '85]'",
          "traceback": [
            "\u001b[0;31m---------------------------------------------------------------------------\u001b[0m",
            "\u001b[0;31mValueError\u001b[0m                                Traceback (most recent call last)",
            "\u001b[0;32m/tmp/ipython-input-4141342344.py\u001b[0m in \u001b[0;36m<cell line: 0>\u001b[0;34m()\u001b[0m\n\u001b[1;32m      6\u001b[0m \u001b[0mguess\u001b[0m\u001b[0;34m=\u001b[0m\u001b[0;36m0\u001b[0m\u001b[0;34m\u001b[0m\u001b[0;34m\u001b[0m\u001b[0m\n\u001b[1;32m      7\u001b[0m \u001b[0;32mwhile\u001b[0m \u001b[0;32mTrue\u001b[0m\u001b[0;34m:\u001b[0m\u001b[0;34m\u001b[0m\u001b[0;34m\u001b[0m\u001b[0m\n\u001b[0;32m----> 8\u001b[0;31m   \u001b[0mguess\u001b[0m\u001b[0;34m=\u001b[0m\u001b[0mint\u001b[0m\u001b[0;34m(\u001b[0m\u001b[0minput\u001b[0m\u001b[0;34m(\u001b[0m\u001b[0;34m\"guess a number\"\u001b[0m\u001b[0;34m)\u001b[0m\u001b[0;34m)\u001b[0m\u001b[0;34m\u001b[0m\u001b[0;34m\u001b[0m\u001b[0m\n\u001b[0m\u001b[1;32m      9\u001b[0m   \u001b[0mguess\u001b[0m\u001b[0;34m+=\u001b[0m\u001b[0;36m1\u001b[0m\u001b[0;34m\u001b[0m\u001b[0;34m\u001b[0m\u001b[0m\n\u001b[1;32m     10\u001b[0m   \u001b[0;32mif\u001b[0m \u001b[0mguess\u001b[0m\u001b[0;34m==\u001b[0m\u001b[0msecret_number\u001b[0m\u001b[0;34m:\u001b[0m\u001b[0;34m\u001b[0m\u001b[0;34m\u001b[0m\u001b[0m\n",
            "\u001b[0;31mValueError\u001b[0m: invalid literal for int() with base 10: '85]'"
          ]
        }
      ]
    },
    {
      "cell_type": "code",
      "source": [
        "import random\n",
        "secret_number=random.randint(1,100)\n",
        "guesses = 0\n",
        "guess=0\n",
        "while True:\n",
        "  guesses += 1 # Increment guesses count with each attempt\n",
        "      # Get the user's guess\n",
        "      guess = int(input(\"Guess a number between 1 and 100: \"))\n",
        "\n",
        "      # Check if the guess is within the valid range (optional but good practice)\n",
        "      if not (1 <= guess <= 100):\n",
        "          print(\"Please guess a number within the range of 1 to 100.\")\n",
        "          continue # Skip the rest of the loop and ask for input again\n",
        "\n",
        "        # Check if the guess is correct\n",
        "      if guess == secret_number:\n",
        "          print(f\"Congratulations! You won in {guesses} guesses.\")\n",
        "          break  # Exit the loop if the guess is correct\n",
        "      elif guess > secret_number:\n",
        "          print(\"Too high! Try again.\")\n",
        "      else:\n",
        "          print(\"Too low! Try again.\") # Corrected typo\n",
        "  print(f\"total gueses: {guess}\")"
      ],
      "metadata": {
        "colab": {
          "base_uri": "https://localhost:8080/",
          "height": 106
        },
        "id": "nRuRJrDNr5Wz",
        "outputId": "947b6e49-2c5e-46ef-ee7e-be54983707ef"
      },
      "execution_count": 15,
      "outputs": [
        {
          "output_type": "error",
          "ename": "IndentationError",
          "evalue": "unexpected indent (ipython-input-2218354572.py, line 8)",
          "traceback": [
            "\u001b[0;36m  File \u001b[0;32m\"/tmp/ipython-input-2218354572.py\"\u001b[0;36m, line \u001b[0;32m8\u001b[0m\n\u001b[0;31m    guess = int(input(\"Guess a number between 1 and 100: \"))\u001b[0m\n\u001b[0m    ^\u001b[0m\n\u001b[0;31mIndentationError\u001b[0m\u001b[0;31m:\u001b[0m unexpected indent\n"
          ]
        }
      ]
    },
    {
      "cell_type": "code",
      "source": [
        "import random\n",
        "\n",
        "secret_number = random.randint(1, 100)\n",
        "guesses = 0\n",
        "guess = 0\n",
        "\n",
        "while True:\n",
        "    # Get the user's guess\n",
        "    guess = int(input(\"Guess a number between 1 and 100: \"))\n",
        "\n",
        "    # Increment guesses count with each valid attempt\n",
        "    guesses += 1\n",
        "\n",
        "    # Check if the guess is within the valid range\n",
        "    if not (1 <= guess <= 100):\n",
        "        print(\"Please guess a number within the range of 1 to 100.\")\n",
        "        # The guess counter will still increase here\n",
        "        continue\n",
        "\n",
        "    # Check if the guess is correct\n",
        "    if guess == secret_number:\n",
        "        print(f\"Congratulations! You won in {guesses} guesses.\")\n",
        "        break  # Exit the loop if the guess is correct\n",
        "    elif guess > secret_number:\n",
        "        print(\"Too high! Try again.\")\n",
        "    else:\n",
        "        print(\"Too low! Try again.\")"
      ],
      "metadata": {
        "colab": {
          "base_uri": "https://localhost:8080/"
        },
        "id": "KSbfJEv3t4sU",
        "outputId": "5603a2b9-4a8d-40b1-f41f-4af14fa688c2"
      },
      "execution_count": 16,
      "outputs": [
        {
          "output_type": "stream",
          "name": "stdout",
          "text": [
            "Guess a number between 1 and 100: 77\n",
            "Too high! Try again.\n",
            "Guess a number between 1 and 100: 567\n",
            "Please guess a number within the range of 1 to 100.\n",
            "Guess a number between 1 and 100: 55\n",
            "Too low! Try again.\n",
            "Guess a number between 1 and 100: 6\n",
            "Too low! Try again.\n",
            "Guess a number between 1 and 100: 77\n",
            "Too high! Try again.\n",
            "Guess a number between 1 and 100: 66\n",
            "Too high! Try again.\n",
            "Guess a number between 1 and 100: 60\n",
            "Too low! Try again.\n",
            "Guess a number between 1 and 100: 63\n",
            "Congratulations! You won in 8 guesses.\n"
          ]
        }
      ]
    },
    {
      "cell_type": "code",
      "source": [],
      "metadata": {
        "id": "Uy4YVDKAuenb"
      },
      "execution_count": null,
      "outputs": []
    }
  ]
}