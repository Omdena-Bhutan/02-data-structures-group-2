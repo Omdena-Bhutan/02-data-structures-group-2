{
  "nbformat": 4,
  "nbformat_minor": 0,
  "metadata": {
    "colab": {
      "provenance": [],
      "include_colab_link": true
    },
    "kernelspec": {
      "name": "python3",
      "display_name": "Python 3"
    },
    "language_info": {
      "name": "python"
    }
  },
  "cells": [
    {
      "cell_type": "markdown",
      "metadata": {
        "id": "view-in-github",
        "colab_type": "text"
      },
      "source": [
        "<a href=\"https://colab.research.google.com/github/Omdena-Bhutan/02-data-structures-group-2/blob/main/DataStructuresAssignmentGroup2.ipynb\" target=\"_parent\"><img src=\"https://colab.research.google.com/assets/colab-badge.svg\" alt=\"Open In Colab\"/></a>"
      ]
    },
    {
      "cell_type": "code",
      "execution_count": null,
      "metadata": {
        "colab": {
          "base_uri": "https://localhost:8080/"
        },
        "id": "nQQXeamYvufK",
        "outputId": "cc902ca2-ba08-474b-d093-f61540288e18"
      },
      "outputs": [
        {
          "output_type": "stream",
          "name": "stdout",
          "text": [
            "Character Name: Alistar the Brave \n",
            "Character Level: 1\n",
            "{'name': 'Alistar the Brave', 'level': 1, 'health': 85, 'mana': 50, 'gold': 50.75, 'is_alive': True, 'experience': 0}\n"
          ]
        }
      ],
      "source": [
        "#Part 1: Character Profile (Using Dictionaries and Basic Types)\n",
        "character_info = {\n",
        "    \"name\":\"Alistar the Brave\",\n",
        "    \"level\": 1,\n",
        "    \"health\":100,\n",
        "    \"mana\":50,\n",
        "    \"gold\":float(50.75),\n",
        "    \"is_alive\":True\n",
        "}\n",
        "\n",
        "print(f\"Character Name: {character_info['name']} \\nCharacter Level: {character_info['level']}\")\n",
        "character_info[\"health\"] = 85\n",
        "character_info[\"experience\"] = 0\n",
        "print(character_info)\n"
      ]
    },
    {
      "cell_type": "code",
      "source": [
        "#Part 2: Inventory System (Using Lists)\n",
        "inventory = ['sword', 'shield', 'health potion']\n",
        "inventory.append('mana potion')\n",
        "inventory.remove(\"shield\")\n",
        "for items in inventory:\n",
        "  print(items)\n"
      ],
      "metadata": {
        "colab": {
          "base_uri": "https://localhost:8080/"
        },
        "id": "lnLcl-F3wqkF",
        "outputId": "abcbd908-80c1-4772-9108-f2754858bb5f"
      },
      "execution_count": null,
      "outputs": [
        {
          "output_type": "stream",
          "name": "stdout",
          "text": [
            "sword\n",
            "health potion\n",
            "mana potion\n"
          ]
        }
      ]
    },
    {
      "cell_type": "code",
      "source": [
        "#Part 3: Character Stats (Using Tuples)\n",
        "base_stats = (10,8,12) #strength, dexterity, intelligence\n",
        "print(\"Tuple is a great choice for base stats because it is immutable in nature. The base stats needs to remain constance hence a tuple ensure it is unchanged.\")\n",
        "print(f\"Intelligence: {base_stats[2]}\")"
      ],
      "metadata": {
        "colab": {
          "base_uri": "https://localhost:8080/"
        },
        "id": "HWjyQyGJyB08",
        "outputId": "ccd018e1-cd99-403a-a9c5-887b09a89abc"
      },
      "execution_count": null,
      "outputs": [
        {
          "output_type": "stream",
          "name": "stdout",
          "text": [
            "Tuple is a great choice for base stats because it is immutable in nature. The base stats needs to remain constance hence a tuple ensure it is unchanged.\n",
            "Intelligence: 12\n"
          ]
        }
      ]
    },
    {
      "cell_type": "code",
      "source": [
        "#Part 4: Quest Log (Using Sets)\n",
        "quests = {\"Find the base\", 'Defeat the Goblin King', 'Find the Lost Amulet'}\n",
        "quests.add(\"Deliver the old scroll\")\n",
        "quests.add(\"Find the base\")\n",
        "quests.remove(\"Find the Lost Amulet\")\n",
        "print(quests)"
      ],
      "metadata": {
        "colab": {
          "base_uri": "https://localhost:8080/"
        },
        "id": "pzBIRlUWyyCE",
        "outputId": "2b2dc58c-682a-4c74-8e35-f769abe05397"
      },
      "execution_count": null,
      "outputs": [
        {
          "output_type": "stream",
          "name": "stdout",
          "text": [
            "{'Defeat the Goblin King', 'Find the base', 'Deliver the old scroll'}\n"
          ]
        }
      ]
    },
    {
      "cell_type": "code",
      "source": [
        "#Part 5: Putting it all together\n",
        "character_sheet = {\n",
        "    \"profile\":character_info,\n",
        "    \"inventory\":inventory,\n",
        "    \"stats\":base_stats,\n",
        "    \"quests\":quests\n",
        "}"
      ],
      "metadata": {
        "id": "_A4xTX6uzrIN"
      },
      "execution_count": null,
      "outputs": []
    },
    {
      "cell_type": "code",
      "source": [
        "kids=300\n",
        "teenage=500\n",
        "adults=800\n",
        "old=400\n",
        "age=int(\"Enter your age\")\n",
        "if age==12 or age<12:\n",
        "  print(f\"your amount is (kids)\")\n",
        "elif age<=0:\n",
        "  print(\"age cant be this\")\n",
        "elif age>12 and age<18:\n",
        "  print(f\"ur amount is (teenage)\")"
      ],
      "metadata": {
        "colab": {
          "base_uri": "https://localhost:8080/",
          "height": 211
        },
        "id": "Fna8JQG4lodU",
        "outputId": "d61b0275-4d6c-473c-edd2-bf7ed0d5cb44"
      },
      "execution_count": 1,
      "outputs": [
        {
          "output_type": "error",
          "ename": "ValueError",
          "evalue": "invalid literal for int() with base 10: 'Enter your age'",
          "traceback": [
            "\u001b[0;31m---------------------------------------------------------------------------\u001b[0m",
            "\u001b[0;31mValueError\u001b[0m                                Traceback (most recent call last)",
            "\u001b[0;32m/tmp/ipython-input-3505159798.py\u001b[0m in \u001b[0;36m<cell line: 0>\u001b[0;34m()\u001b[0m\n\u001b[1;32m      3\u001b[0m \u001b[0madults\u001b[0m\u001b[0;34m=\u001b[0m\u001b[0;36m800\u001b[0m\u001b[0;34m\u001b[0m\u001b[0;34m\u001b[0m\u001b[0m\n\u001b[1;32m      4\u001b[0m \u001b[0mold\u001b[0m\u001b[0;34m=\u001b[0m\u001b[0;36m400\u001b[0m\u001b[0;34m\u001b[0m\u001b[0;34m\u001b[0m\u001b[0m\n\u001b[0;32m----> 5\u001b[0;31m \u001b[0mage\u001b[0m\u001b[0;34m=\u001b[0m\u001b[0mint\u001b[0m\u001b[0;34m(\u001b[0m\u001b[0;34m\"Enter your age\"\u001b[0m\u001b[0;34m)\u001b[0m\u001b[0;34m\u001b[0m\u001b[0;34m\u001b[0m\u001b[0m\n\u001b[0m\u001b[1;32m      6\u001b[0m \u001b[0;32mif\u001b[0m \u001b[0mage\u001b[0m\u001b[0;34m==\u001b[0m\u001b[0;36m12\u001b[0m \u001b[0;32mor\u001b[0m \u001b[0mage\u001b[0m\u001b[0;34m<\u001b[0m\u001b[0;36m12\u001b[0m\u001b[0;34m:\u001b[0m\u001b[0;34m\u001b[0m\u001b[0;34m\u001b[0m\u001b[0m\n\u001b[1;32m      7\u001b[0m   \u001b[0mprint\u001b[0m\u001b[0;34m(\u001b[0m\u001b[0;34mf\"your amount is (kids)\"\u001b[0m\u001b[0;34m)\u001b[0m\u001b[0;34m\u001b[0m\u001b[0;34m\u001b[0m\u001b[0m\n",
            "\u001b[0;31mValueError\u001b[0m: invalid literal for int() with base 10: 'Enter your age'"
          ]
        }
      ]
    },
    {
      "cell_type": "code",
      "source": [
        "kids=300\n",
        "teenage=500\n",
        "adults=800\n",
        "old=400\n",
        "age=int(print(\"Enter your age\"))\n",
        "if age==12 or age<12:\n",
        "  print(f\"your amount is (kids)\")\n",
        "elif age<=0:\n",
        "  print(\"age cant be this\")\n",
        "elif age>12 and age<18:\n",
        "  print(f\"ur amount is (teenage)\")"
      ],
      "metadata": {
        "colab": {
          "base_uri": "https://localhost:8080/",
          "height": 228
        },
        "id": "WrFV-5Bbm271",
        "outputId": "4c32b24f-dc07-43c1-cc2b-c0b9ac1c1f9f"
      },
      "execution_count": 2,
      "outputs": [
        {
          "output_type": "stream",
          "name": "stdout",
          "text": [
            "Enter your age\n"
          ]
        },
        {
          "output_type": "error",
          "ename": "TypeError",
          "evalue": "int() argument must be a string, a bytes-like object or a real number, not 'NoneType'",
          "traceback": [
            "\u001b[0;31m---------------------------------------------------------------------------\u001b[0m",
            "\u001b[0;31mTypeError\u001b[0m                                 Traceback (most recent call last)",
            "\u001b[0;32m/tmp/ipython-input-4108686345.py\u001b[0m in \u001b[0;36m<cell line: 0>\u001b[0;34m()\u001b[0m\n\u001b[1;32m      3\u001b[0m \u001b[0madults\u001b[0m\u001b[0;34m=\u001b[0m\u001b[0;36m800\u001b[0m\u001b[0;34m\u001b[0m\u001b[0;34m\u001b[0m\u001b[0m\n\u001b[1;32m      4\u001b[0m \u001b[0mold\u001b[0m\u001b[0;34m=\u001b[0m\u001b[0;36m400\u001b[0m\u001b[0;34m\u001b[0m\u001b[0;34m\u001b[0m\u001b[0m\n\u001b[0;32m----> 5\u001b[0;31m \u001b[0mage\u001b[0m\u001b[0;34m=\u001b[0m\u001b[0mint\u001b[0m\u001b[0;34m(\u001b[0m\u001b[0mprint\u001b[0m\u001b[0;34m(\u001b[0m\u001b[0;34m\"Enter your age\"\u001b[0m\u001b[0;34m)\u001b[0m\u001b[0;34m)\u001b[0m\u001b[0;34m\u001b[0m\u001b[0;34m\u001b[0m\u001b[0m\n\u001b[0m\u001b[1;32m      6\u001b[0m \u001b[0;32mif\u001b[0m \u001b[0mage\u001b[0m\u001b[0;34m==\u001b[0m\u001b[0;36m12\u001b[0m \u001b[0;32mor\u001b[0m \u001b[0mage\u001b[0m\u001b[0;34m<\u001b[0m\u001b[0;36m12\u001b[0m\u001b[0;34m:\u001b[0m\u001b[0;34m\u001b[0m\u001b[0;34m\u001b[0m\u001b[0m\n\u001b[1;32m      7\u001b[0m   \u001b[0mprint\u001b[0m\u001b[0;34m(\u001b[0m\u001b[0;34mf\"your amount is (kids)\"\u001b[0m\u001b[0;34m)\u001b[0m\u001b[0;34m\u001b[0m\u001b[0;34m\u001b[0m\u001b[0m\n",
            "\u001b[0;31mTypeError\u001b[0m: int() argument must be a string, a bytes-like object or a real number, not 'NoneType'"
          ]
        }
      ]
    },
    {
      "cell_type": "code",
      "source": [
        "kids=300\n",
        "teenage=500\n",
        "adults=800\n",
        "old=400\n",
        "age=str(print(\"Enter your age\"))\n",
        "if age==12 or age<12:\n",
        "  print(f\"your amount is (kids)\")\n",
        "elif age<=0:\n",
        "  print(\"age cant be this\")\n",
        "elif age>12 and age<18:\n",
        "  print(f\"ur amount is (teenage)\")"
      ],
      "metadata": {
        "colab": {
          "base_uri": "https://localhost:8080/",
          "height": 228
        },
        "id": "sz7WJqh7nFpE",
        "outputId": "02f08779-a2e3-4a31-bca1-b1a7da1732d2"
      },
      "execution_count": 3,
      "outputs": [
        {
          "output_type": "stream",
          "name": "stdout",
          "text": [
            "Enter your age\n"
          ]
        },
        {
          "output_type": "error",
          "ename": "TypeError",
          "evalue": "'<' not supported between instances of 'str' and 'int'",
          "traceback": [
            "\u001b[0;31m---------------------------------------------------------------------------\u001b[0m",
            "\u001b[0;31mTypeError\u001b[0m                                 Traceback (most recent call last)",
            "\u001b[0;32m/tmp/ipython-input-288865884.py\u001b[0m in \u001b[0;36m<cell line: 0>\u001b[0;34m()\u001b[0m\n\u001b[1;32m      4\u001b[0m \u001b[0mold\u001b[0m\u001b[0;34m=\u001b[0m\u001b[0;36m400\u001b[0m\u001b[0;34m\u001b[0m\u001b[0;34m\u001b[0m\u001b[0m\n\u001b[1;32m      5\u001b[0m \u001b[0mage\u001b[0m\u001b[0;34m=\u001b[0m\u001b[0mstr\u001b[0m\u001b[0;34m(\u001b[0m\u001b[0mprint\u001b[0m\u001b[0;34m(\u001b[0m\u001b[0;34m\"Enter your age\"\u001b[0m\u001b[0;34m)\u001b[0m\u001b[0;34m)\u001b[0m\u001b[0;34m\u001b[0m\u001b[0;34m\u001b[0m\u001b[0m\n\u001b[0;32m----> 6\u001b[0;31m \u001b[0;32mif\u001b[0m \u001b[0mage\u001b[0m\u001b[0;34m==\u001b[0m\u001b[0;36m12\u001b[0m \u001b[0;32mor\u001b[0m \u001b[0mage\u001b[0m\u001b[0;34m<\u001b[0m\u001b[0;36m12\u001b[0m\u001b[0;34m:\u001b[0m\u001b[0;34m\u001b[0m\u001b[0;34m\u001b[0m\u001b[0m\n\u001b[0m\u001b[1;32m      7\u001b[0m   \u001b[0mprint\u001b[0m\u001b[0;34m(\u001b[0m\u001b[0;34mf\"your amount is (kids)\"\u001b[0m\u001b[0;34m)\u001b[0m\u001b[0;34m\u001b[0m\u001b[0;34m\u001b[0m\u001b[0m\n\u001b[1;32m      8\u001b[0m \u001b[0;32melif\u001b[0m \u001b[0mage\u001b[0m\u001b[0;34m<=\u001b[0m\u001b[0;36m0\u001b[0m\u001b[0;34m:\u001b[0m\u001b[0;34m\u001b[0m\u001b[0;34m\u001b[0m\u001b[0m\n",
            "\u001b[0;31mTypeError\u001b[0m: '<' not supported between instances of 'str' and 'int'"
          ]
        }
      ]
    },
    {
      "cell_type": "code",
      "source": [
        "# This code calculates the ticket price based on the user's age using only if-else statements and no error handling.\n",
        "\n",
        "# Define the ticket prices for different age groups\n",
        "kids_price = 300\n",
        "teenage_price = 500\n",
        "adult_price = 800\n",
        "old_price = 400 # Assuming a price for older adults, though not explicitly in the prompt, it's good practice to include\n",
        "\n",
        "# Ask the user to enter their age and convert the input to an integer\n",
        "age = int(input(\"Please enter your age: \"))\n",
        "\n",
        "# Determine the ticket price based on age using only if-else statements\n",
        "if age < 0:\n",
        "    print(\"Age cannot be negative.\")\n",
        "else:\n",
        "    if age < 12:\n",
        "        print(f\"Your ticket price is: {kids_price}\")\n",
        "    else:\n",
        "        if age <= 17: # This covers ages 12 to 17\n",
        "            print(f\"Your ticket price is: {teenage_price}\")\n",
        "        else:\n",
        "            if age <= 59: # This covers ages 18 to 59\n",
        "                print(f\"Your ticket price is: {adult_price}\")\n",
        "            else: # This covers ages 60 and above\n",
        "                print(f\"Your ticket price is: {old_price}\")"
      ],
      "metadata": {
        "id": "FzVSL_HxnRb0"
      },
      "execution_count": null,
      "outputs": []
    },
    {
      "cell_type": "code",
      "source": [
        "kids_price = 300\n",
        "teenage_price = 500\n",
        "adult_price = 800\n",
        "old_price = 400\n",
        "\n",
        "age=int(print(\"enetr ur age:\"))\n",
        "if age<=0:\n",
        "  print(\"age cant be zero\")\n",
        "else:\n",
        "  if age<13:\n",
        "    print(f\"ur amount is{kids_price}\")\n",
        "  elif age<18:\n",
        "    print(f\"ur amount is {teenage_price}\")\n",
        "  elif age<60:\n",
        "    print(f\"ur amount is {adult_price}\")\n",
        "  else:\n",
        "    print(f\"ur amount is {old_price}\")"
      ],
      "metadata": {
        "id": "l8Vc0ApwoG0k",
        "outputId": "13e8fbb5-3a8d-402f-ff68-ab965a8a50f6",
        "colab": {
          "base_uri": "https://localhost:8080/",
          "height": 228
        }
      },
      "execution_count": 4,
      "outputs": [
        {
          "output_type": "stream",
          "name": "stdout",
          "text": [
            "enetr ur age:\n"
          ]
        },
        {
          "output_type": "error",
          "ename": "TypeError",
          "evalue": "int() argument must be a string, a bytes-like object or a real number, not 'NoneType'",
          "traceback": [
            "\u001b[0;31m---------------------------------------------------------------------------\u001b[0m",
            "\u001b[0;31mTypeError\u001b[0m                                 Traceback (most recent call last)",
            "\u001b[0;32m/tmp/ipython-input-3145323832.py\u001b[0m in \u001b[0;36m<cell line: 0>\u001b[0;34m()\u001b[0m\n\u001b[1;32m      4\u001b[0m \u001b[0mold_price\u001b[0m \u001b[0;34m=\u001b[0m \u001b[0;36m400\u001b[0m\u001b[0;34m\u001b[0m\u001b[0;34m\u001b[0m\u001b[0m\n\u001b[1;32m      5\u001b[0m \u001b[0;34m\u001b[0m\u001b[0m\n\u001b[0;32m----> 6\u001b[0;31m \u001b[0mage\u001b[0m\u001b[0;34m=\u001b[0m\u001b[0mint\u001b[0m\u001b[0;34m(\u001b[0m\u001b[0mprint\u001b[0m\u001b[0;34m(\u001b[0m\u001b[0;34m\"enetr ur age:\"\u001b[0m\u001b[0;34m)\u001b[0m\u001b[0;34m)\u001b[0m\u001b[0;34m\u001b[0m\u001b[0;34m\u001b[0m\u001b[0m\n\u001b[0m\u001b[1;32m      7\u001b[0m \u001b[0;32mif\u001b[0m \u001b[0mage\u001b[0m\u001b[0;34m<=\u001b[0m\u001b[0;36m0\u001b[0m\u001b[0;34m:\u001b[0m\u001b[0;34m\u001b[0m\u001b[0;34m\u001b[0m\u001b[0m\n\u001b[1;32m      8\u001b[0m   \u001b[0mprint\u001b[0m\u001b[0;34m(\u001b[0m\u001b[0;34m\"age cant be zero\"\u001b[0m\u001b[0;34m)\u001b[0m\u001b[0;34m\u001b[0m\u001b[0;34m\u001b[0m\u001b[0m\n",
            "\u001b[0;31mTypeError\u001b[0m: int() argument must be a string, a bytes-like object or a real number, not 'NoneType'"
          ]
        }
      ]
    },
    {
      "cell_type": "code",
      "source": [
        "kids_price = 300\n",
        "teenage_price = 500\n",
        "adult_price = 800\n",
        "old_price = 400\n",
        "\n",
        "age=int(input(\"enetr ur age:\"))\n",
        "if age<=0:\n",
        "  print(\"age cant be zero\")\n",
        "else:\n",
        "  if age<13:\n",
        "    print(f\"ur amount is {kids_price}\")\n",
        "  elif age<18:\n",
        "    print(f\"ur amount is {teenage_price}\")\n",
        "  elif age<60:\n",
        "    print(f\"ur amount is {adult_price}\")\n",
        "  else:\n",
        "    print(f\"ur amount is {old_price}\")"
      ],
      "metadata": {
        "id": "1xUqmloMpMnk",
        "outputId": "20568464-ad0d-4c9a-e9f9-43bd2a43f75c",
        "colab": {
          "base_uri": "https://localhost:8080/"
        }
      },
      "execution_count": 11,
      "outputs": [
        {
          "output_type": "stream",
          "name": "stdout",
          "text": [
            "enetr ur age:1200\n",
            "ur amount is 400\n"
          ]
        }
      ]
    },
    {
      "cell_type": "code",
      "source": [],
      "metadata": {
        "id": "x5CDHicspSL7"
      },
      "execution_count": null,
      "outputs": []
    }
  ]
}